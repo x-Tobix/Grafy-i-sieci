{
 "cells": [
  {
   "cell_type": "code",
   "execution_count": 44,
   "metadata": {},
   "outputs": [],
   "source": [
    "import networkx as nx \n",
    "import numpy as np\n",
    "import pandas as pd\n",
    "import seaborn as sb\n",
    "from sklearn.decomposition import PCA\n",
    "from sklearn.preprocessing import StandardScaler\n",
    "import scipy as sc\n",
    "\n",
    "import matplotlib.pyplot as plt\n",
    "from GraRep.GraRep import GraRep\n",
    "from Node2Vec.Node2Vec import Node2Vec\n",
    "from GraphWave.GraphWave import GraphWave\n",
    "import math\n",
    "\n",
    "np.random.seed(123)\n",
    "\n"
   ]
  },
  {
   "cell_type": "code",
   "execution_count": 2,
   "metadata": {},
   "outputs": [],
   "source": [
    "def plot_networkx(graph, role_labels):\n",
    "        cmap = plt.get_cmap('hot')\n",
    "        x_range = np.linspace(0, 1, len(np.unique(role_labels)))\n",
    "        coloring = {u: cmap(x_range[i]) for i, u in enumerate(np.unique(role_labels))}\n",
    "        node_color = [coloring[role_labels[i]] for i in range(len(role_labels))]\n",
    "        plt.figure()\n",
    "        nx.draw_networkx(graph, pos=nx.layout.fruchterman_reingold_layout(graph),\n",
    "                         node_color=node_color, cmap='hot')\n",
    "        plt.show()\n",
    "        return"
   ]
  },
  {
   "cell_type": "code",
   "execution_count": 45,
   "metadata": {},
   "outputs": [],
   "source": [
    "def barbel_graph(start, n1, n2, role_start=0, plot=False):\n",
    "    '''Creates a Barbell-graph (two dense components connected by a stringraph)\n",
    "    on n1 and n2 nodes\n",
    "    INPUT:\n",
    "    -------------\n",
    "    start       :    starting index for the shape\n",
    "    n1, n2      :    n1: size of the cliques and  2*n2= size of the string\n",
    "    role_start  :    starting index for the roles\n",
    "    plot        :    boolean -- should the shape be printed?\n",
    "    OUTPUT:\n",
    "    -------------\n",
    "    graph       :    a house shape graph, with ids beginning at start\n",
    "    role_labels :    list of the roles of the nodes (indexed starting at\n",
    "    '''\n",
    "\n",
    "    a1 = np.ones((n1, n1))\n",
    "    np.fill_diagonal(a1, 0)         # set the diagonal to 0\n",
    "    graph = nx.from_numpy_matrix(a1)\n",
    "    a2 = np.ones((n1, n1))\n",
    "    block_zeros = np.zeros((n1, n1))\n",
    "    a = np.bmat([[a1, block_zeros], [block_zeros, a2]])\n",
    "    np.fill_diagonal(a, 0)          # set the diagonal to 0\n",
    "    graph = nx.from_numpy_matrix(a)\n",
    "    start = nx.number_of_nodes(graph)\n",
    "    graph.add_nodes_from(range(start, start + 2 * n2 + 1))\n",
    "    string = [(i, i + 1) for i in range(start, start + 2 * n2)]\n",
    "    graph.add_edges_from(string)\n",
    "    graph.add_edges_from([(0, start), (n1, start + 2 * n2)])\n",
    "    role_labels = [0] * (2 * n1)\n",
    "    role_labels[0] = 1\n",
    "    role_labels[n1] = 1\n",
    "    str_role = [i for i in range(2, n2 + 2)]\n",
    "    str_role.append(n2+2)\n",
    "    str_role += [n2+3-i for i in range(2, n2+2)]\n",
    "    role_labels += str_role\n",
    "    if plot is True: plot_networkx(graph, role_labels)\n",
    "    return graph, role_labels\n",
    "\n",
    "\n",
    "def clique(start, nb_nodes, nb_to_remove=0, role_start=0, plot=False):\n",
    "    ''' Defines a clique (complete graph on nb_nodes nodes,\n",
    "    with nb_to_remove  edges that will have to be removed),\n",
    "    index of nodes starting at start\n",
    "    and role_ids at role_start\n",
    "    INPUT:\n",
    "    -------------\n",
    "    start       :    starting index for the shape\n",
    "    nb_nodes    :    int correspondingraph to the nb of nodes in the clique\n",
    "    role_start  :    starting index for the roles\n",
    "    nb_to_remove:    int-- numb of edges to remove (unif at RDM)\n",
    "    plot        :    boolean -- should the shape be printed?\n",
    "    OUTPUT:\n",
    "    -------------\n",
    "    graph           :    a house shape graph, with ids beginning at start\n",
    "    roles       :    list of the roles of the nodes (indexed starting at\n",
    "                     role_start)\n",
    "    '''\n",
    "    a = np.ones((nb_nodes, nb_nodes))\n",
    "    np.fill_diagonal(a, 0)\n",
    "    graph = nx.Graph()\n",
    "    graph = nx.from_numpy_matrix(a)\n",
    "    edge_list = graph.edges().keys()\n",
    "    roles = [role_start] * nb_nodes\n",
    "    if nb_to_remove > 0:\n",
    "        lst = np.random.choice(len(edge_list), nb_to_remove, replace=False)\n",
    "        print(edge_list, lst)\n",
    "        to_delete = [edge_list[e] for e in lst]\n",
    "        graph.remove_edges_from(to_delete)\n",
    "        for e in lst:\n",
    "            print(edge_list[e][0])\n",
    "            print(len(roles))\n",
    "            roles[edge_list[e][0]] += 1\n",
    "            roles[edge_list[e][1]] += 1\n",
    "    mapping_graph = {k: (k + start) for k in range(nb_nodes)}\n",
    "    graph = nx.relabel_nodes(graph, mapping_graph)\n",
    "    if plot is True: plot_networkx(graph, roles)\n",
    "    return graph, roles\n",
    "\n",
    "\n",
    "def cycle(start, len_cycle, role_start=0, plot=False):\n",
    "    '''Builds a cycle graph, with index of nodes starting at start\n",
    "    and role_ids at role_start\n",
    "    INPUT:\n",
    "    -------------\n",
    "    start       :    starting index for the shape\n",
    "    role_start  :    starting index for the roles\n",
    "    plot        :    boolean -- should the shape be printed?\n",
    "    OUTPUT:\n",
    "    -------------\n",
    "    graph           :    a house shape graph, with ids beginning at start\n",
    "    roles       :    list of the roles of the nodes (indexed starting at\n",
    "                     role_start)\n",
    "    '''\n",
    "    graph = nx.Graph()\n",
    "    graph.add_nodes_from(range(start, start + len_cycle))\n",
    "    for i in range(len_cycle-1):\n",
    "        graph.add_edges_from([(start + i, start + i + 1)])\n",
    "    graph.add_edges_from([(start + len_cycle - 1, start)])\n",
    "    roles = [role_start] * len_cycle\n",
    "    if plot is True: plot_networkx(graph, roles)\n",
    "    return graph, roles\n",
    "\n",
    "\n",
    "def diamond(start, role_start=0, plot=False):\n",
    "    '''Builds a diamond graph, with index of nodes starting at start\n",
    "    and role_ids at role_start\n",
    "    INPUT:\n",
    "    -------------\n",
    "    start       :    starting index for the shape\n",
    "    role_start  :    starting index for the roles\n",
    "    plot        :    boolean -- should the shape be printed?\n",
    "    OUTPUT:\n",
    "    -------------\n",
    "    graph           :    a house shape graph, with ids beginning at start\n",
    "    roles       :    list of the roles of the nodes (indexed starting at\n",
    "                     role_start)\n",
    "    '''\n",
    "    graph = nx.Graph()\n",
    "    graph.add_nodes_from(range(start, start + 6))\n",
    "    graph.add_edges_from([(start, start + 1), (start + 1, start + 2),\n",
    "                          (start + 2, start + 3), (start + 3, start)])\n",
    "    graph.add_edges_from([(start + 4, start), (start + 4, start + 1),\n",
    "                          (start + 4, start + 2), (start + 4, start + 3)])\n",
    "    graph.add_edges_from([(start + 5, start), (start + 5, start + 1),\n",
    "                          (start + 5, start + 2), (start + 5, start + 3)])\n",
    "    roles = [role_start] * 6\n",
    "    if plot is True: plot_networkx(graph, roles)\n",
    "    return graph, roles\n",
    "\n",
    "\n",
    "def fan(start, nb_branches, role_start=0, plot=False):\n",
    "    '''Builds a fan-like graph, with index of nodes starting at start\n",
    "    and role_ids at role_start\n",
    "    INPUT:\n",
    "    -------------\n",
    "    nb_branches :    int correspondingraph to the nb of fan branches\n",
    "    start       :    starting index for the shape\n",
    "    role_start  :    starting index for the roles\n",
    "    plot        :    boolean -- should the shape be printed?\n",
    "    OUTPUT:\n",
    "    -------------\n",
    "    graph           :    a house shape graph, with ids beginning at start\n",
    "    roles       :    list of the roles of the nodes (indexed starting at\n",
    "                     role_start)\n",
    "    '''\n",
    "    graph, roles = star(start, nb_branches, role_start=role_start)\n",
    "    for k in range(1, nb_branches - 1):\n",
    "        roles[k] += 1\n",
    "        roles[k + 1] += 1\n",
    "        graph.add_edges_from([(start + k, start + k + 1)])\n",
    "    if plot is True: plot_networkx(graph, roles)\n",
    "    return graph, roles\n",
    "\n",
    "\n",
    "def hollow(start, role_start=0, plot=False):\n",
    "    ''' Creates a torus-like basis structure where the\n",
    "    index of nodes start at start\n",
    "    and role_ids at role_start\n",
    "    INPUT:\n",
    "    -------------\n",
    "    start       :    starting index for the shape\n",
    "    role_start  :    starting index for the roles\n",
    "    plot        :    boolean -- should the shape be printed?\n",
    "    OUTPUT:\n",
    "    -------------\n",
    "    graph           :    a house shape graph, with ids beginning at start\n",
    "    roles       :    list of the roles of the nodes (indexed starting at\n",
    "    '''\n",
    "    graph1, _ = cycle(start, 5)\n",
    "    graph, _ = cycle(start + 5, 10)\n",
    "    graph.add_nodes_from(graph1.nodes())\n",
    "    graph.add_edges_from(graph1.edges())\n",
    "    graph.add_edges_from([(start, start + 5), (start + 1, start + 7),\n",
    "                          (start + 2, start + 9), (start + 3, start + 11),\n",
    "                          (start + 4, start + 13)])\n",
    "    graph.add_edges_from([(start + 6, start + 1), (start + 6, start)])\n",
    "    graph.add_edges_from([(start + 8, start + 2), (start + 8, start + 1)])\n",
    "    graph.add_edges_from([(start + 10, start + 3), (start + 10, start + 2)])\n",
    "    graph.add_edges_from([(start + 12, start + 4), (start + 12, start + 3)])\n",
    "    graph.add_edges_from([(start + 14, start), (start + 14, start + 4)])\n",
    "    roles = [role_start] * nx.number_of_nodes(graph)\n",
    "    if plot is True: plot_networkx(graph, roles)\n",
    "    return graph, roles\n",
    "\n",
    "\n",
    "def house(start, role_start=0, plot=False):\n",
    "    '''Builds a house-like  graph, with index of nodes starting at start\n",
    "    and role_ids at role_start\n",
    "    INPUT:\n",
    "    -------------\n",
    "    start       :    starting index for the shape\n",
    "    role_start  :    starting index for the roles\n",
    "    plot        :    boolean -- should the shape be printed?\n",
    "    OUTPUT:\n",
    "    -------------\n",
    "    graph           :    a house shape graph, with ids beginning at start\n",
    "    roles       :    list of the roles of the nodes (indexed starting at\n",
    "                     role_start)\n",
    "    '''\n",
    "    graph = nx.Graph()\n",
    "    graph.add_nodes_from(range(start, start + 5))\n",
    "    graph.add_edges_from([(start, start + 1), (start + 1, start + 2),\n",
    "                          (start + 2, start + 3), (start + 3, start)])\n",
    "    graph.add_edges_from([(start, start + 2), (start + 1, start + 3)])\n",
    "    graph.add_edges_from([(start + 4, start), (start + 4, start + 1)])\n",
    "    roles = [role_start, role_start, role_start + 1,\n",
    "             role_start + 1, role_start + 2]\n",
    "    if plot is True: plot_networkx(graph, roles)\n",
    "    return graph, roles\n",
    "\n",
    "\n",
    "def karate_club(plot=False):\n",
    "    '''\n",
    "    Defines the mirrored- Karate network structure ( KDD paper)\n",
    "    '''\n",
    "    graph1 = nx.karate_club_graph()\n",
    "    a = nx.adjacency_matrix(graph1)\n",
    "    n_graph = nx.number_of_nodes(graph1)\n",
    "    b = np.zeros((n_graph, n_graph))\n",
    "    a = np.bmat([[a.todense(), b], [b, a.todense()]])\n",
    "    graph = nx.from_numpy_matrix(a)\n",
    "    # add link between two random members\n",
    "    roles = range(n_graph)\n",
    "    roles += range(n_graph)\n",
    "    graph.add_edges_from([(0, 36)])\n",
    "    if plot is True: plot_networkx(graph, roles)\n",
    "    return graph, roles\n",
    "\n",
    "\n",
    "def mirrored_cavemen(n, k, plot=False):\n",
    "    '''Builds a mirrored_cavemen graph\n",
    "    INPUT:\n",
    "    -------------\n",
    "    n           :    number of nodes\n",
    "    k           :    number of cliques\n",
    "    plot        :    boolean -- should the shape be printed?\n",
    "    OUTPUT:\n",
    "    -------------\n",
    "    graph           :    a house shape graph, with ids beginning at start\n",
    "    roles       :    list of the roles of the nodes (indexed starting at\n",
    "                     role_start)\n",
    "    '''\n",
    "    n_graph = n * k\n",
    "    a = np.ones((k, k))\n",
    "    np.fill_diagonal(a, 0)\n",
    "    adj = sc.linalg.block_diag(*([a] * n))\n",
    "    for i in range(n-1):\n",
    "        adj[(i + 1) * k - 1, (i + 1) * k] = 1\n",
    "        adj[(i + 1) * k, (i + 1) * k - 1] = 1\n",
    "    adj[n * k - 1, 0] = 1\n",
    "    adj[0, n * k - 1] = 1\n",
    "    graph = nx.from_numpy_matrix(adj)\n",
    "    roles = [0] * n_graph\n",
    "    for i in range(n-1):\n",
    "        roles[(i + 1) * k - 1] = 1\n",
    "        roles[(i + 1) * k] = 1\n",
    "    roles[0] = 1\n",
    "    roles[n * k - 1] = 1\n",
    "    if plot is True: plot_networkx(graph, roles)\n",
    "    return graph, roles\n",
    "\n",
    "\n",
    "def star(start, nb_branches, role_start=0, plot=False):\n",
    "    '''Builds a star graph, with index of nodes starting at start\n",
    "    and role_ids at role_start\n",
    "    INPUT:\n",
    "    -------------\n",
    "    nb_branches :    int correspondingraph to the nb of star branches\n",
    "    start       :    starting index for the shape\n",
    "    role_start  :    starting index for the roles\n",
    "    plot        :    boolean -- should the shape be printed?\n",
    "    OUTPUT:\n",
    "    -------------\n",
    "    graph           :    a house shape graph, with ids beginning at start\n",
    "    roles       :    list of the roles of the nodes (indexed starting at\n",
    "                     role_start)\n",
    "    '''\n",
    "    graph = nx.Graph()\n",
    "    graph.add_nodes_from(range(start, start + nb_branches + 1))\n",
    "    for k in range(1, nb_branches + 1):\n",
    "        graph.add_edges_from([(start, start + k)])\n",
    "    roles = [role_start + 1] * (nb_branches + 1)\n",
    "    roles[0] = role_start\n",
    "    if plot is True: plot_networkx(graph, roles)\n",
    "    return graph, roles\n",
    "\n",
    "\n",
    "def string(start, width, role_start=0):\n",
    "    '''Builds a stringraph graph, with index of nodes starting at start\n",
    "    and role_ids at role_start\n",
    "    INPUT:\n",
    "    -------------\n",
    "    start       :    starting index for the shape\n",
    "    width       :    int correspondingraph to the lengraphth of the stringraph\n",
    "    role_start  :    starting index for the roles\n",
    "    OUTPUT:\n",
    "    -------------\n",
    "    graph           :    a house shape graph, with ids beginning at start\n",
    "    roles       :    list of the roles of the nodes (indexed starting at\n",
    "                     role_start)\n",
    "    '''\n",
    "    graph = nx.Graph()\n",
    "    graph.add_nodes_from(range(start, start + width))\n",
    "    for i in range(width - 1):\n",
    "        graph.add_edges_from([(start + i, start + i + 1)])\n",
    "    roles = [role_start] * width\n",
    "    roles[0] = role_start + 1\n",
    "    roles[-1] = role_start + 1\n",
    "    return graph, roles\n",
    "\n",
    "\n",
    "def tree(start, nb_levels, regularity, role_start=0, plot=False):\n",
    "    ''' Defines a clique (complete graph on nb_nodes nodes,\n",
    "    with nb_to_remove  edges that will have to be removed),\n",
    "    index of nodes starting at start\n",
    "    and role_ids at role_start\n",
    "    INPUT:\n",
    "    -------------\n",
    "    start       :    starting index for the shape\n",
    "    nb_levels   :    int correspondingraph to the nb of levels in the tree\n",
    "    regularity  :    nb of children for each node\n",
    "    role_start  :    starting index for the roles\n",
    "    plot        :    boolean -- should the shape be printed?\n",
    "    OUTPUT:\n",
    "    -------------\n",
    "    graph           :    a house shape graph, with ids beginning at start\n",
    "    roles       :    list of the roles of the nodes (indexed starting at\n",
    "                     role_start)\n",
    "    '''\n",
    "    graph = nx.Graph()\n",
    "    nodes_level = [regularity**l for l in range(nb_levels)]\n",
    "    graph.add_nodes_from(range(start, start + np.sum(nodes_level)))\n",
    "    a = start\n",
    "    it = 0\n",
    "    for n in range(1, np.sum(nodes_level)):\n",
    "        graph.add_edges_from([(a, start + n)])\n",
    "        it += 1\n",
    "        if it == (regularity):\n",
    "            a += 1\n",
    "            it = 0\n",
    "\n",
    "    n = nx.number_of_nodes(graph)\n",
    "    roles = [role_start + 1] * nx.number_of_nodes(graph)\n",
    "    roles[0] = role_start\n",
    "    for i in range(regularity**l):\n",
    "        roles[n - 1 - i] += 1\n",
    "    if plot is True: plot_networkx(graph, roles)\n",
    "    return graph, roles\n",
    "\n",
    "\n"
   ]
  },
  {
   "cell_type": "code",
   "execution_count": 3,
   "metadata": {},
   "outputs": [],
   "source": [
    "\n",
    "def build_structure(width_basis, basis_type, list_shapes, start=0,\n",
    "                    rdm_basis_plugins =False, add_random_edges=0,\n",
    "                    plot=False, savefig=False):\n",
    "    '''This function creates a basis (torus, string, or cycle)\n",
    "    and attaches elements of the type in the list randomly along the basis.\n",
    "    Possibility to add random edges afterwards.\n",
    "    INPUT:\n",
    "    --------------------------------------------------------------------------------------\n",
    "    width_basis      :      width (in terms of number of nodes) of the basis\n",
    "    basis_type       :      (torus, string, or cycle)\n",
    "    shapes           :      list of shape list (1st arg: type of shape,\n",
    "                            next args:args for building the shape,\n",
    "                            except for the start)\n",
    "    start            :      initial nb for the first node\n",
    "    rdm_basis_plugins:      boolean. Should the shapes be randomly placed\n",
    "                            along the basis (True) or regularly (False)?\n",
    "    add_random_edges :      nb of edges to randomly add on the structure\n",
    "    plot,savefig     :      plotting and saving parameters\n",
    "    OUTPUT:\n",
    "    --------------------------------------------------------------------------------------\n",
    "    basis            :       a nx graph with the particular shape\n",
    "    colors           :       labels for each role\n",
    "    '''\n",
    "    basis, role_id = eval(basis_type)(start, width_basis)\n",
    "    n_basis, n_shapes = nx.number_of_nodes(basis), len(list_shapes)\n",
    "    start += n_basis        # indicator of the id of the next node\n",
    "\n",
    "    # Sample (with replacement) where to attach the new motives\n",
    "    if rdm_basis_plugins is True:\n",
    "        plugins = np.random.choice(n_basis, n_shapes, replace=False)\n",
    "    else:\n",
    "        spacing = math.floor(width_basis / n_shapes)\n",
    "        plugins = [int(k * spacing) for k in range(n_shapes)]\n",
    "    communities = [0] * n_basis\n",
    "    seen_shapes = {'basis': [0, n_basis]}\n",
    "    for p in plugins:\n",
    "        role_id[p] += 1\n",
    "\n",
    "    for shape_id, shape in enumerate(list_shapes):\n",
    "        shape_type = shape[0]\n",
    "        args = [start]\n",
    "        if len(shape)>1:\n",
    "            args += shape[1:]\n",
    "        args += [0]\n",
    "        graph_s, roles_graph_s = eval(shape_type)(*args)\n",
    "        n_s = nx.number_of_nodes(graph_s)\n",
    "        try:\n",
    "            col_start = seen_shapes[shape_type][0]\n",
    "        except:\n",
    "            col_start = np.max(role_id) + 1\n",
    "            seen_shapes[shape_type] = [col_start, n_s]\n",
    "        # Attach the shape to the basis\n",
    "        basis.add_nodes_from(graph_s.nodes())\n",
    "        basis.add_edges_from(graph_s.edges())\n",
    "        basis.add_edges_from([(start, plugins[shape_id])])\n",
    "        role_id[plugins[shape_id]] += (-2 - 10 * seen_shapes[shape_type][0])\n",
    "        communities += [shape_id] * n_s\n",
    "        temp_labels = [r + col_start for r in roles_graph_s]\n",
    "        temp_labels[0] += 100 * seen_shapes[shape_type][0]\n",
    "        role_id += temp_labels\n",
    "        start += n_s\n",
    "\n",
    "    if add_random_edges > 0:\n",
    "        # add random edges between nodes:\n",
    "        for p in range(add_random_edges):\n",
    "            src, dest = np.random.choice(nx.number_of_nodes(basis),\n",
    "                                         2, replace=False)\n",
    "            print(src, dest)\n",
    "            basis.add_edges_from([(src, dest)])\n",
    "    if plot is True: plot_networkx(basis, role_id)\n",
    "\n",
    "    return basis, communities, plugins, role_id"
   ]
  },
  {
   "cell_type": "code",
   "execution_count": 79,
   "metadata": {},
   "outputs": [
    {
     "data": {
      "image/png": "[encoded data removed]",
      "text/plain": [
       "<Figure size 432x288 with 1 Axes>"
      ]
     },
     "metadata": {},
     "output_type": "display_data"
    }
   ],
   "source": [
    "width_basis = 15\n",
    "#nbTrials = 20\n",
    "\n",
    "\n",
    "################################### EXAMPLE TO BUILD A SIMPLE REGULAR STRUCTURE ##########\n",
    "## REGULAR STRUCTURE: the most simple structure:  basis + n small patterns of a single type\n",
    "\n",
    "### 1. Choose the basis (cycle, torus or chain)\n",
    "basis_type = \"cycle\" \n",
    "\n",
    "### 2. Add the shapes \n",
    "n_shapes = 5  ## numbers of shapes to add \n",
    "#shape=[\"star\",6] ## shapes and their associated required parameters  (nb of edges for the star, etc)\n",
    "#shape=[\"star\",6]\n",
    "list_shapes = [[\"star\",4]] * n_shapes\n",
    "\n",
    "### 3. Give a name to the graph\n",
    "identifier = \"_\" + basis_type   ## just a name to distinguish between different trials\n",
    "sb.set_style('white')\n",
    "\n",
    "### 4. Pass all these parameters to the Graph Structure\n",
    "add_edges = 0\n",
    "G, communities, _ , role_id = build_structure(width_basis, basis_type, list_shapes, start=0,\n",
    "                                       add_random_edges=add_edges, plot=True,\n",
    "                                       savefig=False)\n",
    "name_graph = 'star'+ identifier + \"_\" + str(len(role_id))"
   ]
  },
  {
   "cell_type": "code",
   "execution_count": 113,
   "metadata": {},
   "outputs": [],
   "source": [
    "# A = nx.adjacency_matrix(G).todense()\n",
    "# A = A.round(0).astype('int')\n",
    "# A"
   ]
  },
  {
   "cell_type": "code",
   "execution_count": 114,
   "metadata": {},
   "outputs": [],
   "source": [
    "\n",
    "# a_file = open(\"Graphs\\\\AdjacencyMatrixes\\\\GraphWave_Graphs\\\\\" + name_graph+\".txt\", \"w\")\n",
    "# for row in A:\n",
    "\n",
    "#     np.savetxt(a_file, row)\n",
    "#     print(row)\n",
    "\n",
    "\n",
    "# a_file.close()"
   ]
  },
  {
   "cell_type": "code",
   "execution_count": 63,
   "metadata": {},
   "outputs": [
    {
     "name": "stdout",
     "output_type": "stream",
     "text": [
      "4\n",
      "40\n"
     ]
    }
   ],
   "source": [
    "print(len(np.unique(role_id)))\n",
    "print(len(role_id))"
   ]
  },
  {
   "cell_type": "code",
   "execution_count": 99,
   "metadata": {},
   "outputs": [],
   "source": [
    "matrix = input(\"Give path to adjacency matrix: \")\n",
    "GW = GraphWave(matrix,25)\n",
    "chi = GW.create_embedding(25,0,2)\n"
   ]
  },
  {
   "cell_type": "code",
   "execution_count": 21,
   "metadata": {},
   "outputs": [],
   "source": [
    "matrix = input(\"Give path to adjacency matrix: \")\n",
    "k = input(\"Give maximum transition step: \")\n",
    "d = input(\"Give embedding dimension: \")\n",
    "GR = GraRep(matrix, int(k), int(d))\n",
    "chi2 = GR.create_embedding()"
   ]
  },
  {
   "cell_type": "code",
   "execution_count": 115,
   "metadata": {},
   "outputs": [],
   "source": [
    "matrix = input(\"Give path to adjacency matrix: \")\n",
    "le = int(input(\"Give length of a single random walk: \"))\n",
    "r = int(input(\"Give number of random walks starting at a single vertex: \"))\n",
    "p = float(input(\"Give bias Return parameter: \"))\n",
    "q = float(input(\"Give bias In-Out parameter: \"))\n",
    "d = int(input(\"Give embedding dimension: \"))\n",
    "NV = Node2Vec(matrix, int(le), int(r), int(p), int(q), int(d))\n",
    "chi3 = NV.create_embedding()"
   ]
  },
  {
   "cell_type": "code",
   "execution_count": 10,
   "metadata": {},
   "outputs": [
    {
     "data": {
      "text/plain": [
       "(200, 40)"
      ]
     },
     "execution_count": 10,
     "metadata": {},
     "output_type": "execute_result"
    }
   ],
   "source": [
    "np.array(chi).shape\n"
   ]
  },
  {
   "cell_type": "code",
   "execution_count": 7,
   "metadata": {},
   "outputs": [],
   "source": [
    "from sklearn.decomposition import PCA\n",
    "pca = PCA(n_components=2)\n",
    "principalComponents = pca.fit_transform(chi)\n",
    "principalDf = pd.DataFrame(data = principalComponents, columns = ['principal component 1', 'principal component 2'])"
   ]
  },
  {
   "cell_type": "code",
   "execution_count": 105,
   "metadata": {},
   "outputs": [
    {
     "data": {
      "text/plain": [
       "array([-21,   0,   3, 202])"
      ]
     },
     "execution_count": 105,
     "metadata": {},
     "output_type": "execute_result"
    }
   ],
   "source": [
    "np.unique(role_id)"
   ]
  },
  {
   "cell_type": "code",
   "execution_count": 8,
   "metadata": {},
   "outputs": [],
   "source": [
    "from sklearn.model_selection import train_test_split\n",
    "from sklearn.linear_model import LogisticRegression\n",
    "from sklearn.decomposition import PCA\n",
    "from sklearn.preprocessing import StandardScaler\n",
    "import matplotlib.pyplot as plt"
   ]
  },
  {
   "cell_type": "code",
   "execution_count": 16,
   "metadata": {},
   "outputs": [],
   "source": [
    "#df = pd.DataFrame(chi.transpose())\n",
    "#df\n",
    "df = pd.DataFrame(np.array(chi.transpose()))\n"
   ]
  },
  {
   "cell_type": "code",
   "execution_count": 17,
   "metadata": {},
   "outputs": [],
   "source": [
    "X = df\n",
    "Y = role_id"
   ]
  },
  {
   "cell_type": "code",
   "execution_count": 18,
   "metadata": {},
   "outputs": [],
   "source": [
    "scaler = StandardScaler()\n",
    "X_scaled = scaler.fit_transform(X)\n",
    "X_train, X_test, Y_train, Y_test = train_test_split(X_scaled, Y, test_size = 0.2)"
   ]
  },
  {
   "cell_type": "code",
   "execution_count": 19,
   "metadata": {},
   "outputs": [
    {
     "name": "stderr",
     "output_type": "stream",
     "text": [
      "C:\\Users\\grycz\\AppData\\Local\\Packages\\PythonSoftwareFoundation.Python.3.9_qbz5n2kfra8p0\\LocalCache\\local-packages\\Python39\\site-packages\\sklearn\\linear_model\\_logistic.py:444: ConvergenceWarning: lbfgs failed to converge (status=1):\n",
      "STOP: TOTAL NO. of ITERATIONS REACHED LIMIT.\n",
      "\n",
      "Increase the number of iterations (max_iter) or scale the data as shown in:\n",
      "    https://scikit-learn.org/stable/modules/preprocessing.html\n",
      "Please also refer to the documentation for alternative solver options:\n",
      "    https://scikit-learn.org/stable/modules/linear_model.html#logistic-regression\n",
      "  n_iter_i = _check_optimize_result(\n"
     ]
    },
    {
     "data": {
      "text/plain": [
       "1.0"
      ]
     },
     "execution_count": 19,
     "metadata": {},
     "output_type": "execute_result"
    }
   ],
   "source": [
    "model = LogisticRegression()\n",
    "model.fit(X_train, Y_train)\n",
    "model.score(X_test, Y_test)"
   ]
  },
  {
   "cell_type": "code",
   "execution_count": 20,
   "metadata": {},
   "outputs": [
    {
     "data": {
      "text/plain": [
       "(40, 2)"
      ]
     },
     "execution_count": 20,
     "metadata": {},
     "output_type": "execute_result"
    }
   ],
   "source": [
    "pca = PCA(n_components=2)\n",
    "X_pca = pca.fit_transform(X)\n",
    "X_pca.shape"
   ]
  },
  {
   "cell_type": "code",
   "execution_count": 21,
   "metadata": {},
   "outputs": [],
   "source": [
    "X_train_pca, X_test_pca, Y_train, Y_test = train_test_split(X_pca, Y, test_size = 0.2)"
   ]
  },
  {
   "cell_type": "code",
   "execution_count": 22,
   "metadata": {},
   "outputs": [
    {
     "data": {
      "text/plain": [
       "0.125"
      ]
     },
     "execution_count": 22,
     "metadata": {},
     "output_type": "execute_result"
    }
   ],
   "source": [
    "model = LogisticRegression()\n",
    "model.fit(X_train_pca, Y_train)\n",
    "model.score(X_test_pca, Y_test)"
   ]
  },
  {
   "cell_type": "code",
   "execution_count": 23,
   "metadata": {},
   "outputs": [],
   "source": [
    "a,b = X_pca.transpose()"
   ]
  },
  {
   "cell_type": "code",
   "execution_count": 24,
   "metadata": {},
   "outputs": [
    {
     "data": {
      "image/png": "[encoded data removed]",
      "text/plain": [
       "<Figure size 432x288 with 1 Axes>"
      ]
     },
     "metadata": {},
     "output_type": "display_data"
    }
   ],
   "source": [
    "markers = {0:'*',-21: '.', 2:'<',3: 'o',4: '4',202: '^'}\n",
    "nb_clust = len(np.unique(role_id))\n",
    "x=np.linspace(0,1,nb_clust+1)\n",
    "cmapx=plt.get_cmap('rainbow')\n",
    "col=[cmapx(xx) for xx in x ]\n",
    "\n",
    "\n",
    "for i in range(40):\n",
    "    #plt.xlim(-0.15, 0.25)\n",
    "    #plt.ylim(-0.025,0.025)\n",
    "    plt.scatter(a[i],b[i],marker=markers[role_id[i]])\n",
    "    #if i%4 == 0:\n",
    "        #plt.show()\n",
    "plt.show()"
   ]
  },
  {
   "cell_type": "code",
   "execution_count": 12,
   "metadata": {},
   "outputs": [],
   "source": [
    "from sklearn.model_selection import train_test_split\n",
    "from sklearn.linear_model import LogisticRegression\n",
    "from sklearn.decomposition import PCA\n",
    "from sklearn.preprocessing import StandardScaler\n",
    "import matplotlib.pyplot as plt"
   ]
  },
  {
   "cell_type": "code",
   "execution_count": 111,
   "metadata": {},
   "outputs": [],
   "source": [
    "def plot_pca(chi, m):\n",
    "    df = pd.DataFrame(np.array(np.array(chi).transpose()))\n",
    "    X = df\n",
    "    Y = role_id\n",
    "    scaler = StandardScaler()\n",
    "    X_scaled = scaler.fit_transform(X)\n",
    "    X_train, X_test, Y_train, Y_test = train_test_split(X_scaled, Y, test_size = 0.2)\n",
    "    model = LogisticRegression()\n",
    "    model.fit(X_train, Y_train)\n",
    "    print('Logistic Regression score: ', model.score(X_test, Y_test))\n",
    "    pca = PCA(n_components=2)\n",
    "    X_pca = pca.fit_transform(X)\n",
    "    X_train_pca, X_test_pca, Y_train, Y_test = train_test_split(X_pca, Y, test_size = 0.2)\n",
    "    model = LogisticRegression()\n",
    "    model.fit(X_train_pca, Y_train)\n",
    "    print(\"PCA score: \", model.score(X_test_pca, Y_test))\n",
    "    a, b = X_pca.transpose()\n",
    "    markers = m\n",
    "    nb_clust = len(np.unique(role_id))\n",
    "    x=np.linspace(0,1,nb_clust+1)\n",
    "    cmapx=plt.get_cmap('rainbow')\n",
    "    col=[cmapx(xx) for xx in x ]\n",
    "    for i in range(40):\n",
    "        #plt.xlim(-0.015, 0.035)\n",
    "        #plt.ylim(-0.001,0.001)\n",
    "        plt.scatter(a[i],b[i], marker=markers[role_id[i]])\n",
    "        #if i%2 == 0:\n",
    "            #plt.show()\n",
    "    plt.show()\n"
   ]
  },
  {
   "cell_type": "code",
   "execution_count": 106,
   "metadata": {},
   "outputs": [
    {
     "data": {
      "text/plain": [
       "array([-21,   0,   3, 202])"
      ]
     },
     "execution_count": 106,
     "metadata": {},
     "output_type": "execute_result"
    }
   ],
   "source": [
    "np.unique(role_id)"
   ]
  },
  {
   "cell_type": "code",
   "execution_count": 112,
   "metadata": {},
   "outputs": [
    {
     "name": "stdout",
     "output_type": "stream",
     "text": [
      "Logistic Regression score:  1.0\n",
      "PCA score:  0.625\n"
     ]
    },
    {
     "data": {
      "image/png": "[encoded data removed]",
      "text/plain": [
       "<Figure size 432x288 with 1 Axes>"
      ]
     },
     "metadata": {},
     "output_type": "display_data"
    }
   ],
   "source": [
    "m = {0:'*',-21: 'o', 3: ',', 202: '^'}\n",
    "plot_pca(np.array(chi), m)"
   ]
  }
 ],
 "metadata": {
  "interpreter": {
   "hash": "fde64a279125227ef3b0ef4b3e38ca8afba5aff87bdb5ba3dc397bd12dcd0f7d"
  },
  "kernelspec": {
   "display_name": "Python 3.9.13 64-bit (windows store)",
   "language": "python",
   "name": "python3"
  },
  "language_info": {
   "codemirror_mode": {
    "name": "ipython",
    "version": 3
   },
   "file_extension": ".py",
   "mimetype": "text/x-python",
   "name": "python",
   "nbconvert_exporter": "python",
   "pygments_lexer": "ipython3",
   "version": "3.9.13"
  },
  "orig_nbformat": 4
 },
 "nbformat": 4,
 "nbformat_minor": 2
}
