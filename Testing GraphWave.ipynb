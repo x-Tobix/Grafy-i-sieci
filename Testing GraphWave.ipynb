{
 "cells": [
  {
   "cell_type": "code",
   "execution_count": 2,
   "metadata": {},
   "outputs": [],
   "source": [
    "import networkx as nx \n",
    "import numpy as np\n",
    "import pandas as pd\n",
    "import seaborn as sb\n",
    "from sklearn.decomposition import PCA\n",
    "from sklearn.preprocessing import StandardScaler\n",
    "\n",
    "\n",
    "import matplotlib.pyplot as plt\n",
    "from GraRep.GraRep import GraRep\n",
    "from Node2Vec.Node2Vec import Node2Vec\n",
    "from GraphWave.GraphWave import GraphWave\n",
    "import math\n",
    "\n",
    "np.random.seed(123)\n",
    "\n"
   ]
  },
  {
   "cell_type": "code",
   "execution_count": 3,
   "metadata": {},
   "outputs": [],
   "source": [
    "def plot_networkx(graph, role_labels):\n",
    "        cmap = plt.get_cmap('hot')\n",
    "        x_range = np.linspace(0, 1, len(np.unique(role_labels)))\n",
    "        coloring = {u: cmap(x_range[i]) for i, u in enumerate(np.unique(role_labels))}\n",
    "        node_color = [coloring[role_labels[i]] for i in range(len(role_labels))]\n",
    "        plt.figure()\n",
    "        nx.draw_networkx(graph, pos=nx.layout.fruchterman_reingold_layout(graph),\n",
    "                         node_color=node_color, cmap='hot')\n",
    "        plt.show()\n",
    "        return"
   ]
  },
  {
   "cell_type": "code",
   "execution_count": 4,
   "metadata": {},
   "outputs": [],
   "source": [
    "\n",
    "def build_structure(width_basis, basis_type, list_shapes, start=0,\n",
    "                    rdm_basis_plugins =False, add_random_edges=0,\n",
    "                    plot=False, savefig=False):\n",
    "    '''This function creates a basis (torus, string, or cycle)\n",
    "    and attaches elements of the type in the list randomly along the basis.\n",
    "    Possibility to add random edges afterwards.\n",
    "    INPUT:\n",
    "    --------------------------------------------------------------------------------------\n",
    "    width_basis      :      width (in terms of number of nodes) of the basis\n",
    "    basis_type       :      (torus, string, or cycle)\n",
    "    shapes           :      list of shape list (1st arg: type of shape,\n",
    "                            next args:args for building the shape,\n",
    "                            except for the start)\n",
    "    start            :      initial nb for the first node\n",
    "    rdm_basis_plugins:      boolean. Should the shapes be randomly placed\n",
    "                            along the basis (True) or regularly (False)?\n",
    "    add_random_edges :      nb of edges to randomly add on the structure\n",
    "    plot,savefig     :      plotting and saving parameters\n",
    "    OUTPUT:\n",
    "    --------------------------------------------------------------------------------------\n",
    "    basis            :       a nx graph with the particular shape\n",
    "    colors           :       labels for each role\n",
    "    '''\n",
    "    basis, role_id = eval(basis_type)(start, width_basis)\n",
    "    n_basis, n_shapes = nx.number_of_nodes(basis), len(list_shapes)\n",
    "    start += n_basis        # indicator of the id of the next node\n",
    "\n",
    "    # Sample (with replacement) where to attach the new motives\n",
    "    if rdm_basis_plugins is True:\n",
    "        plugins = np.random.choice(n_basis, n_shapes, replace=False)\n",
    "    else:\n",
    "        spacing = math.floor(width_basis / n_shapes)\n",
    "        plugins = [int(k * spacing) for k in range(n_shapes)]\n",
    "    communities = [0] * n_basis\n",
    "    seen_shapes = {'basis': [0, n_basis]}\n",
    "    for p in plugins:\n",
    "        role_id[p] += 1\n",
    "\n",
    "    for shape_id, shape in enumerate(list_shapes):\n",
    "        shape_type = shape[0]\n",
    "        args = [start]\n",
    "        if len(shape)>1:\n",
    "            args += shape[1:]\n",
    "        args += [0]\n",
    "        graph_s, roles_graph_s = eval(shape_type)(*args)\n",
    "        n_s = nx.number_of_nodes(graph_s)\n",
    "        try:\n",
    "            col_start = seen_shapes[shape_type][0]\n",
    "        except:\n",
    "            col_start = np.max(role_id) + 1\n",
    "            seen_shapes[shape_type] = [col_start, n_s]\n",
    "        # Attach the shape to the basis\n",
    "        basis.add_nodes_from(graph_s.nodes())\n",
    "        basis.add_edges_from(graph_s.edges())\n",
    "        basis.add_edges_from([(start, plugins[shape_id])])\n",
    "        role_id[plugins[shape_id]] += (-2 - 10 * seen_shapes[shape_type][0])\n",
    "        communities += [shape_id] * n_s\n",
    "        temp_labels = [r + col_start for r in roles_graph_s]\n",
    "        temp_labels[0] += 100 * seen_shapes[shape_type][0]\n",
    "        role_id += temp_labels\n",
    "        start += n_s\n",
    "\n",
    "    if add_random_edges > 0:\n",
    "        # add random edges between nodes:\n",
    "        for p in range(add_random_edges):\n",
    "            src, dest = np.random.choice(nx.number_of_nodes(basis),\n",
    "                                         2, replace=False)\n",
    "            print(src, dest)\n",
    "            basis.add_edges_from([(src, dest)])\n",
    "    if plot is True: plot_networkx(basis, role_id)\n",
    "\n",
    "    return basis, communities, plugins, role_id"
   ]
  },
  {
   "cell_type": "code",
   "execution_count": 5,
   "metadata": {},
   "outputs": [],
   "source": [
    "def cycle(start, len_cycle, role_start=0, plot=False):\n",
    "    '''Builds a cycle graph, with index of nodes starting at start\n",
    "    and role_ids at role_start\n",
    "    INPUT:\n",
    "    -------------\n",
    "    start       :    starting index for the shape\n",
    "    role_start  :    starting index for the roles\n",
    "    plot        :    boolean -- should the shape be printed?\n",
    "    OUTPUT:\n",
    "    -------------\n",
    "    graph           :    a house shape graph, with ids beginning at start\n",
    "    roles       :    list of the roles of the nodes (indexed starting at\n",
    "                     role_start)\n",
    "    '''\n",
    "    graph = nx.Graph()\n",
    "    graph.add_nodes_from(range(start, start + len_cycle))\n",
    "    for i in range(len_cycle-1):\n",
    "        graph.add_edges_from([(start + i, start + i + 1)])\n",
    "    graph.add_edges_from([(start + len_cycle - 1, start)])\n",
    "    roles = [role_start] * len_cycle\n",
    "    if plot is True: plot_networkx(graph, roles)\n",
    "    return graph, roles\n",
    "\n"
   ]
  },
  {
   "cell_type": "code",
   "execution_count": 6,
   "metadata": {},
   "outputs": [],
   "source": [
    "\n",
    "def house(start, role_start=0, plot=False):\n",
    "    '''Builds a house-like  graph, with index of nodes starting at start\n",
    "    and role_ids at role_start\n",
    "    INPUT:\n",
    "    -------------\n",
    "    start       :    starting index for the shape\n",
    "    role_start  :    starting index for the roles\n",
    "    plot        :    boolean -- should the shape be printed?\n",
    "    OUTPUT:\n",
    "    -------------\n",
    "    graph           :    a house shape graph, with ids beginning at start\n",
    "    roles       :    list of the roles of the nodes (indexed starting at\n",
    "                     role_start)\n",
    "    '''\n",
    "    graph = nx.Graph()\n",
    "    graph.add_nodes_from(range(start, start + 5))\n",
    "    graph.add_edges_from([(start, start + 1), (start + 1, start + 2),\n",
    "                          (start + 2, start + 3), (start + 3, start)])\n",
    "    graph.add_edges_from([(start, start + 2), (start + 1, start + 3)])\n",
    "    graph.add_edges_from([(start + 4, start), (start + 4, start + 1)])\n",
    "    roles = [role_start, role_start, role_start + 1,\n",
    "             role_start + 1, role_start + 2]\n",
    "    if plot is True: plot_networkx(graph, roles)\n",
    "    return graph, roles\n",
    "\n"
   ]
  },
  {
   "cell_type": "code",
   "execution_count": 7,
   "metadata": {},
   "outputs": [
    {
     "data": {
      "image/png": "[encoded data removed]",
      "text/plain": [
       "<Figure size 432x288 with 1 Axes>"
      ]
     },
     "metadata": {},
     "output_type": "display_data"
    }
   ],
   "source": [
    "width_basis = 15\n",
    "nbTrials = 20\n",
    "\n",
    "\n",
    "################################### EXAMPLE TO BUILD A SIMPLE REGULAR STRUCTURE ##########\n",
    "## REGULAR STRUCTURE: the most simple structure:  basis + n small patterns of a single type\n",
    "\n",
    "### 1. Choose the basis (cycle, torus or chain)\n",
    "basis_type = \"cycle\" \n",
    "\n",
    "### 2. Add the shapes \n",
    "n_shapes = 5  ## numbers of shapes to add \n",
    "#shape=[\"fan\",6] ## shapes and their associated required parameters  (nb of edges for the star, etc)\n",
    "#shape=[\"star\",6]\n",
    "list_shapes = [[\"house\"]] * n_shapes\n",
    "\n",
    "### 3. Give a name to the graph\n",
    "identifier = 'AA'  ## just a name to distinguish between different trials\n",
    "name_graph = 'houses'+ identifier\n",
    "sb.set_style('white')\n",
    "\n",
    "### 4. Pass all these parameters to the Graph Structure\n",
    "add_edges = 0\n",
    "G, communities, _ , role_id = build_structure(width_basis, basis_type, list_shapes, start=0,\n",
    "                                       add_random_edges=add_edges, plot=True,\n",
    "                                       savefig=False)"
   ]
  },
  {
   "cell_type": "code",
   "execution_count": 8,
   "metadata": {},
   "outputs": [],
   "source": [
    "matrix = input(\"Give path to adjacency matrix: \")\n",
    "GW = GraphWave(matrix, 25,1)\n",
    "chi = GW.create_embedding(100,0,10)\n"
   ]
  },
  {
   "cell_type": "code",
   "execution_count": 100,
   "metadata": {},
   "outputs": [],
   "source": [
    "matrix = input(\"Give path to adjacency matrix: \")\n",
    "k = input(\"Give maximum transition step: \")\n",
    "d = input(\"Give embedding dimension: \")\n",
    "GR = GraRep(matrix, int(k), int(d))\n",
    "chi2 = GR.create_embedding()"
   ]
  },
  {
   "cell_type": "code",
   "execution_count": 4,
   "metadata": {},
   "outputs": [
    {
     "ename": "TypeError",
     "evalue": "__init__() got an unexpected keyword argument 'size'",
     "output_type": "error",
     "traceback": [
      "\u001b[1;31m---------------------------------------------------------------------------\u001b[0m",
      "\u001b[1;31mTypeError\u001b[0m                                 Traceback (most recent call last)",
      "\u001b[1;32mc:\\Users\\grycz\\Studia\\Magisterka\\II semestr 2021-2022\\Grafy i Sieci\\Grafy-i-sieci\\Testing GraphWave.ipynb Cell 13'\u001b[0m in \u001b[0;36m<cell line: 8>\u001b[1;34m()\u001b[0m\n\u001b[0;32m      <a href='vscode-notebook-cell:/c%3A/Users/grycz/Studia/Magisterka/II%20semestr%202021-2022/Grafy%20i%20Sieci/Grafy-i-sieci/Testing%20GraphWave.ipynb#ch0000012?line=5'>6</a>\u001b[0m d \u001b[39m=\u001b[39m \u001b[39mint\u001b[39m(\u001b[39minput\u001b[39m(\u001b[39m\"\u001b[39m\u001b[39mGive embedding dimension: \u001b[39m\u001b[39m\"\u001b[39m))\n\u001b[0;32m      <a href='vscode-notebook-cell:/c%3A/Users/grycz/Studia/Magisterka/II%20semestr%202021-2022/Grafy%20i%20Sieci/Grafy-i-sieci/Testing%20GraphWave.ipynb#ch0000012?line=6'>7</a>\u001b[0m NV \u001b[39m=\u001b[39m Node2Vec(matrix, \u001b[39mint\u001b[39m(le), \u001b[39mint\u001b[39m(r), \u001b[39mint\u001b[39m(p), \u001b[39mint\u001b[39m(q), \u001b[39mint\u001b[39m(d))\n\u001b[1;32m----> <a href='vscode-notebook-cell:/c%3A/Users/grycz/Studia/Magisterka/II%20semestr%202021-2022/Grafy%20i%20Sieci/Grafy-i-sieci/Testing%20GraphWave.ipynb#ch0000012?line=7'>8</a>\u001b[0m chi3 \u001b[39m=\u001b[39m NV\u001b[39m.\u001b[39;49mcreate_embedding()\n",
      "File \u001b[1;32mc:\\Users\\grycz\\Studia\\Magisterka\\II semestr 2021-2022\\Grafy i Sieci\\Grafy-i-sieci\\Node2Vec\\Node2Vec.py:52\u001b[0m, in \u001b[0;36mNode2Vec.create_embedding\u001b[1;34m(self)\u001b[0m\n\u001b[0;32m     <a href='file:///c%3A/Users/grycz/Studia/Magisterka/II%20semestr%202021-2022/Grafy%20i%20Sieci/Grafy-i-sieci/Node2Vec/Node2Vec.py?line=48'>49</a>\u001b[0m         current\u001b[39m.\u001b[39mappend(\u001b[39mstr\u001b[39m(j))\n\u001b[0;32m     <a href='file:///c%3A/Users/grycz/Studia/Magisterka/II%20semestr%202021-2022/Grafy%20i%20Sieci/Grafy-i-sieci/Node2Vec/Node2Vec.py?line=49'>50</a>\u001b[0m     string_walks\u001b[39m.\u001b[39mappend(current)\n\u001b[1;32m---> <a href='file:///c%3A/Users/grycz/Studia/Magisterka/II%20semestr%202021-2022/Grafy%20i%20Sieci/Grafy-i-sieci/Node2Vec/Node2Vec.py?line=51'>52</a>\u001b[0m model \u001b[39m=\u001b[39m word2vec\u001b[39m.\u001b[39;49mWord2Vec(sentences\u001b[39m=\u001b[39;49m\u001b[39mNone\u001b[39;49;00m,\n\u001b[0;32m     <a href='file:///c%3A/Users/grycz/Studia/Magisterka/II%20semestr%202021-2022/Grafy%20i%20Sieci/Grafy-i-sieci/Node2Vec/Node2Vec.py?line=52'>53</a>\u001b[0m                           size\u001b[39m=\u001b[39;49m\u001b[39mself\u001b[39;49m\u001b[39m.\u001b[39;49md,\n\u001b[0;32m     <a href='file:///c%3A/Users/grycz/Studia/Magisterka/II%20semestr%202021-2022/Grafy%20i%20Sieci/Grafy-i-sieci/Node2Vec/Node2Vec.py?line=53'>54</a>\u001b[0m                           min_count\u001b[39m=\u001b[39;49m\u001b[39m1\u001b[39;49m,\n\u001b[0;32m     <a href='file:///c%3A/Users/grycz/Studia/Magisterka/II%20semestr%202021-2022/Grafy%20i%20Sieci/Grafy-i-sieci/Node2Vec/Node2Vec.py?line=54'>55</a>\u001b[0m                           negative\u001b[39m=\u001b[39;49m\u001b[39m5\u001b[39;49m,\n\u001b[0;32m     <a href='file:///c%3A/Users/grycz/Studia/Magisterka/II%20semestr%202021-2022/Grafy%20i%20Sieci/Grafy-i-sieci/Node2Vec/Node2Vec.py?line=55'>56</a>\u001b[0m                           alpha\u001b[39m=\u001b[39;49m\u001b[39m0.025\u001b[39;49m,\n\u001b[0;32m     <a href='file:///c%3A/Users/grycz/Studia/Magisterka/II%20semestr%202021-2022/Grafy%20i%20Sieci/Grafy-i-sieci/Node2Vec/Node2Vec.py?line=56'>57</a>\u001b[0m                           min_alpha\u001b[39m=\u001b[39;49m\u001b[39m0.0001\u001b[39;49m,\n\u001b[0;32m     <a href='file:///c%3A/Users/grycz/Studia/Magisterka/II%20semestr%202021-2022/Grafy%20i%20Sieci/Grafy-i-sieci/Node2Vec/Node2Vec.py?line=57'>58</a>\u001b[0m                           sg\u001b[39m=\u001b[39;49m\u001b[39m1\u001b[39;49m,\n\u001b[0;32m     <a href='file:///c%3A/Users/grycz/Studia/Magisterka/II%20semestr%202021-2022/Grafy%20i%20Sieci/Grafy-i-sieci/Node2Vec/Node2Vec.py?line=58'>59</a>\u001b[0m                           hs\u001b[39m=\u001b[39;49m\u001b[39m0\u001b[39;49m,\n\u001b[0;32m     <a href='file:///c%3A/Users/grycz/Studia/Magisterka/II%20semestr%202021-2022/Grafy%20i%20Sieci/Grafy-i-sieci/Node2Vec/Node2Vec.py?line=59'>60</a>\u001b[0m                           window\u001b[39m=\u001b[39;49m\u001b[39m5\u001b[39;49m,\n\u001b[0;32m     <a href='file:///c%3A/Users/grycz/Studia/Magisterka/II%20semestr%202021-2022/Grafy%20i%20Sieci/Grafy-i-sieci/Node2Vec/Node2Vec.py?line=60'>61</a>\u001b[0m                           sample\u001b[39m=\u001b[39;49m\u001b[39m0\u001b[39;49m,\n\u001b[0;32m     <a href='file:///c%3A/Users/grycz/Studia/Magisterka/II%20semestr%202021-2022/Grafy%20i%20Sieci/Grafy-i-sieci/Node2Vec/Node2Vec.py?line=61'>62</a>\u001b[0m                           sorted_vocab\u001b[39m=\u001b[39;49m\u001b[39m0\u001b[39;49m)\n\u001b[0;32m     <a href='file:///c%3A/Users/grycz/Studia/Magisterka/II%20semestr%202021-2022/Grafy%20i%20Sieci/Grafy-i-sieci/Node2Vec/Node2Vec.py?line=62'>63</a>\u001b[0m \u001b[39mself\u001b[39m\u001b[39m.\u001b[39m__model \u001b[39m=\u001b[39m model\n\u001b[0;32m     <a href='file:///c%3A/Users/grycz/Studia/Magisterka/II%20semestr%202021-2022/Grafy%20i%20Sieci/Grafy-i-sieci/Node2Vec/Node2Vec.py?line=63'>64</a>\u001b[0m \u001b[39mself\u001b[39m\u001b[39m.\u001b[39m__model\u001b[39m.\u001b[39mbuild_vocab(sentences\u001b[39m=\u001b[39mstring_walks)\n",
      "\u001b[1;31mTypeError\u001b[0m: __init__() got an unexpected keyword argument 'size'"
     ]
    }
   ],
   "source": [
    "matrix = input(\"Give path to adjacency matrix: \")\n",
    "le = int(input(\"Give length of a single random walk: \"))\n",
    "r = int(input(\"Give number of random walks starting at a single vertex: \"))\n",
    "p = float(input(\"Give bias Return parameter: \"))\n",
    "q = float(input(\"Give bias In-Out parameter: \"))\n",
    "d = int(input(\"Give embedding dimension: \"))\n",
    "NV = Node2Vec(matrix, int(le), int(r), int(p), int(q), int(d))\n",
    "chi3 = NV.create_embedding()"
   ]
  },
  {
   "cell_type": "code",
   "execution_count": 6,
   "metadata": {},
   "outputs": [
    {
     "data": {
      "text/plain": [
       "(200, 40)"
      ]
     },
     "execution_count": 6,
     "metadata": {},
     "output_type": "execute_result"
    }
   ],
   "source": [
    "np.array(chi).shape\n"
   ]
  },
  {
   "cell_type": "code",
   "execution_count": 7,
   "metadata": {},
   "outputs": [],
   "source": [
    "from sklearn.decomposition import PCA\n",
    "pca = PCA(n_components=2)\n",
    "principalComponents = pca.fit_transform(chi)\n",
    "principalDf = pd.DataFrame(data = principalComponents, columns = ['principal component 1', 'principal component 2'])"
   ]
  },
  {
   "cell_type": "code",
   "execution_count": 72,
   "metadata": {},
   "outputs": [
    {
     "data": {
      "text/plain": [
       "40"
      ]
     },
     "execution_count": 72,
     "metadata": {},
     "output_type": "execute_result"
    }
   ],
   "source": [
    "len(role_id)"
   ]
  },
  {
   "cell_type": "code",
   "execution_count": 8,
   "metadata": {},
   "outputs": [],
   "source": [
    "from sklearn.model_selection import train_test_split\n",
    "from sklearn.linear_model import LogisticRegression\n",
    "from sklearn.decomposition import PCA\n",
    "from sklearn.preprocessing import StandardScaler\n",
    "import matplotlib.pyplot as plt"
   ]
  },
  {
   "cell_type": "code",
   "execution_count": 16,
   "metadata": {},
   "outputs": [],
   "source": [
    "#df = pd.DataFrame(chi.transpose())\n",
    "#df\n",
    "df = pd.DataFrame(np.array(chi.transpose()))\n"
   ]
  },
  {
   "cell_type": "code",
   "execution_count": 17,
   "metadata": {},
   "outputs": [],
   "source": [
    "X = df\n",
    "Y = role_id"
   ]
  },
  {
   "cell_type": "code",
   "execution_count": 18,
   "metadata": {},
   "outputs": [],
   "source": [
    "scaler = StandardScaler()\n",
    "X_scaled = scaler.fit_transform(X)\n",
    "X_train, X_test, Y_train, Y_test = train_test_split(X_scaled, Y, test_size = 0.2)"
   ]
  },
  {
   "cell_type": "code",
   "execution_count": 19,
   "metadata": {},
   "outputs": [
    {
     "name": "stderr",
     "output_type": "stream",
     "text": [
      "C:\\Users\\grycz\\AppData\\Local\\Packages\\PythonSoftwareFoundation.Python.3.9_qbz5n2kfra8p0\\LocalCache\\local-packages\\Python39\\site-packages\\sklearn\\linear_model\\_logistic.py:444: ConvergenceWarning: lbfgs failed to converge (status=1):\n",
      "STOP: TOTAL NO. of ITERATIONS REACHED LIMIT.\n",
      "\n",
      "Increase the number of iterations (max_iter) or scale the data as shown in:\n",
      "    https://scikit-learn.org/stable/modules/preprocessing.html\n",
      "Please also refer to the documentation for alternative solver options:\n",
      "    https://scikit-learn.org/stable/modules/linear_model.html#logistic-regression\n",
      "  n_iter_i = _check_optimize_result(\n"
     ]
    },
    {
     "data": {
      "text/plain": [
       "1.0"
      ]
     },
     "execution_count": 19,
     "metadata": {},
     "output_type": "execute_result"
    }
   ],
   "source": [
    "model = LogisticRegression()\n",
    "model.fit(X_train, Y_train)\n",
    "model.score(X_test, Y_test)"
   ]
  },
  {
   "cell_type": "code",
   "execution_count": 20,
   "metadata": {},
   "outputs": [
    {
     "data": {
      "text/plain": [
       "(40, 2)"
      ]
     },
     "execution_count": 20,
     "metadata": {},
     "output_type": "execute_result"
    }
   ],
   "source": [
    "pca = PCA(n_components=2)\n",
    "X_pca = pca.fit_transform(X)\n",
    "X_pca.shape"
   ]
  },
  {
   "cell_type": "code",
   "execution_count": 21,
   "metadata": {},
   "outputs": [],
   "source": [
    "X_train_pca, X_test_pca, Y_train, Y_test = train_test_split(X_pca, Y, test_size = 0.2)"
   ]
  },
  {
   "cell_type": "code",
   "execution_count": 22,
   "metadata": {},
   "outputs": [
    {
     "data": {
      "text/plain": [
       "0.125"
      ]
     },
     "execution_count": 22,
     "metadata": {},
     "output_type": "execute_result"
    }
   ],
   "source": [
    "model = LogisticRegression()\n",
    "model.fit(X_train_pca, Y_train)\n",
    "model.score(X_test_pca, Y_test)"
   ]
  },
  {
   "cell_type": "code",
   "execution_count": 23,
   "metadata": {},
   "outputs": [],
   "source": [
    "a,b = X_pca.transpose()"
   ]
  },
  {
   "cell_type": "code",
   "execution_count": 24,
   "metadata": {},
   "outputs": [
    {
     "data": {
      "image/png": "[encoded data removed]",
      "text/plain": [
       "<Figure size 432x288 with 1 Axes>"
      ]
     },
     "metadata": {},
     "output_type": "display_data"
    }
   ],
   "source": [
    "markers = {0:'*',-21: '.', 2:'<',3: 'o',4: '4',202: '^'}\n",
    "nb_clust = len(np.unique(role_id))\n",
    "x=np.linspace(0,1,nb_clust+1)\n",
    "cmapx=plt.get_cmap('rainbow')\n",
    "col=[cmapx(xx) for xx in x ]\n",
    "\n",
    "\n",
    "for i in range(40):\n",
    "    #plt.xlim(-0.15, 0.25)\n",
    "    #plt.ylim(-0.025,0.025)\n",
    "    plt.scatter(a[i],b[i],marker=markers[role_id[i]])\n",
    "    #if i%4 == 0:\n",
    "        #plt.show()\n",
    "plt.show()"
   ]
  },
  {
   "cell_type": "code",
   "execution_count": 9,
   "metadata": {},
   "outputs": [],
   "source": [
    "from sklearn.model_selection import train_test_split\n",
    "from sklearn.linear_model import LogisticRegression\n",
    "from sklearn.decomposition import PCA\n",
    "from sklearn.preprocessing import StandardScaler\n",
    "import matplotlib.pyplot as plt"
   ]
  },
  {
   "cell_type": "code",
   "execution_count": 12,
   "metadata": {},
   "outputs": [],
   "source": [
    "def plot_pca(chi):\n",
    "    df = pd.DataFrame(np.array(np.array(chi).transpose()))\n",
    "    X = df\n",
    "    Y = role_id\n",
    "    scaler = StandardScaler()\n",
    "    X_scaled = scaler.fit_transform(X)\n",
    "    X_train, X_test, Y_train, Y_test = train_test_split(X_scaled, Y, test_size = 0.2)\n",
    "    model = LogisticRegression()\n",
    "    model.fit(X_train, Y_train)\n",
    "    print('Logistic Regression score: ', model.score(X_test, Y_test))\n",
    "    pca = PCA(n_components=2)\n",
    "    X_pca = pca.fit_transform(X)\n",
    "    X_train_pca, X_test_pca, Y_train, Y_test = train_test_split(X_pca, Y, test_size = 0.2)\n",
    "    model = LogisticRegression()\n",
    "    model.fit(X_train_pca, Y_train)\n",
    "    print(\"PCA score: \", model.score(X_test_pca, Y_test))\n",
    "    a, b = X_pca.transpose()\n",
    "    markers = {0:'*',-21: '.', 2:'<',3: 'o',4: '4',202: '^'}\n",
    "    nb_clust = len(np.unique(role_id))\n",
    "    x=np.linspace(0,1,nb_clust+1)\n",
    "    cmapx=plt.get_cmap('rainbow')\n",
    "    col=[cmapx(xx) for xx in x ]\n",
    "    for i in range(40):\n",
    "        #plt.xlim(-0.15, 0.25)\n",
    "        #plt.ylim(-0.025,0.025)\n",
    "        plt.scatter(a[i],b[i], marker=markers[role_id[i]])\n",
    "        #if i%4 == 0:\n",
    "            #plt.show()\n",
    "    plt.show()\n"
   ]
  },
  {
   "cell_type": "code",
   "execution_count": 13,
   "metadata": {},
   "outputs": [
    {
     "name": "stderr",
     "output_type": "stream",
     "text": [
      "C:\\Users\\grycz\\AppData\\Local\\Packages\\PythonSoftwareFoundation.Python.3.9_qbz5n2kfra8p0\\LocalCache\\local-packages\\Python39\\site-packages\\sklearn\\linear_model\\_logistic.py:444: ConvergenceWarning: lbfgs failed to converge (status=1):\n",
      "STOP: TOTAL NO. of ITERATIONS REACHED LIMIT.\n",
      "\n",
      "Increase the number of iterations (max_iter) or scale the data as shown in:\n",
      "    https://scikit-learn.org/stable/modules/preprocessing.html\n",
      "Please also refer to the documentation for alternative solver options:\n",
      "    https://scikit-learn.org/stable/modules/linear_model.html#logistic-regression\n",
      "  n_iter_i = _check_optimize_result(\n"
     ]
    },
    {
     "name": "stdout",
     "output_type": "stream",
     "text": [
      "Logistic Regression score:  1.0\n",
      "PCA score:  0.5\n"
     ]
    },
    {
     "data": {
      "image/png": "[encoded data removed]",
      "text/plain": [
       "<Figure size 432x288 with 1 Axes>"
      ]
     },
     "metadata": {},
     "output_type": "display_data"
    }
   ],
   "source": [
    "plot_pca(chi)"
   ]
  }
 ],
 "metadata": {
  "interpreter": {
   "hash": "fde64a279125227ef3b0ef4b3e38ca8afba5aff87bdb5ba3dc397bd12dcd0f7d"
  },
  "kernelspec": {
   "display_name": "Python 3.9.13 64-bit (windows store)",
   "language": "python",
   "name": "python3"
  },
  "language_info": {
   "codemirror_mode": {
    "name": "ipython",
    "version": 3
   },
   "file_extension": ".py",
   "mimetype": "text/x-python",
   "name": "python",
   "nbconvert_exporter": "python",
   "pygments_lexer": "ipython3",
   "version": "3.9.13"
  },
  "orig_nbformat": 4
 },
 "nbformat": 4,
 "nbformat_minor": 2
}
